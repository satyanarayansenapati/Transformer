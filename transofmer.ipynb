{
 "cells": [
  {
   "cell_type": "markdown",
   "metadata": {},
   "source": [
    "Self attention\n"
   ]
  },
  {
   "cell_type": "code",
   "execution_count": 2,
   "metadata": {},
   "outputs": [],
   "source": [
    "# imports\n",
    "import numpy as np\n",
    "import math"
   ]
  },
  {
   "cell_type": "code",
   "execution_count": 3,
   "metadata": {},
   "outputs": [
    {
     "name": "stdout",
     "output_type": "stream",
     "text": [
      "The shape of Q matrix is (4, 8)\n",
      " [[-0.00321774 -0.3779472  -0.91467156  0.21036567 -1.0191051  -0.53591204\n",
      "   1.28280734 -0.70308224]\n",
      " [ 0.66052383  2.22399239  1.23155579 -0.0514911   1.32791039 -1.04957902\n",
      "   0.1978133  -0.01616973]\n",
      " [-0.77985494 -0.14101652  1.59431799  0.66724715 -0.06256293 -1.26988843\n",
      "  -0.15370181 -1.32643477]\n",
      " [ 0.13122343 -1.88428763 -1.40611083 -0.84072834  0.02527446  0.58994408\n",
      "  -0.78625852 -0.8132695 ]]\n",
      "The shape of K matrix is (4, 8)\n",
      " [[ 1.82249133  0.82941662 -0.20053611 -1.01045564 -0.34123768  0.11549175\n",
      "   0.34662191 -0.56428335]\n",
      " [-0.62026462 -0.10328412 -1.73701664  3.2175722   1.84092872  0.30026842\n",
      "  -0.97256273  0.82610147]\n",
      " [ 0.96093656 -0.66796415 -0.93710505  0.22011191  1.65140729  1.76855159\n",
      "  -0.22928647  0.09913789]\n",
      " [ 0.08842656 -0.23808166 -0.70630787  1.02076699 -0.41354525 -0.45657494\n",
      "   0.43511297 -1.15513179]]\n",
      "The shape of V matrix is (4, 8)\n",
      " [[ 0.55163977  0.33126945 -0.51472954 -0.20295922  1.21707387  1.03348466\n",
      "   0.14556205  0.14549306]\n",
      " [ 0.43532821  0.04625746  0.64121138 -0.20575559 -0.81881707 -1.34602584\n",
      "  -1.10071807 -1.3861217 ]\n",
      " [-0.35554932 -0.19454043  0.5452901   0.74836221  0.39466561 -0.31531498\n",
      "  -1.15313703 -0.95873913]\n",
      " [ 0.23720685  1.99680322 -1.00798483  2.52290317 -0.31599412  1.12423786\n",
      "   0.19797925 -0.36448833]]\n"
     ]
    }
   ],
   "source": [
    "# for our example\n",
    "# we are considering 'My name is Satya' sentence\n",
    "# the length of this sentence (no of words) = 4\n",
    "seq_len = 4\n",
    "\n",
    "# let's take the dimension of word embeding = 8\n",
    "d_dim = 8\n",
    "\n",
    "# word_embed_dim = q_dim = k_dim = v_dim\n",
    "\n",
    "# generating q,k,v matrices\n",
    "# shape of each matrix will be (seq_len, d_dim)\n",
    "q_mat = np.random.randn(seq_len,d_dim)\n",
    "print(f'The shape of Q matrix is {q_mat.shape}\\n {q_mat}')\n",
    "k_mat = np.random.randn(seq_len,d_dim)\n",
    "print(f'The shape of K matrix is {k_mat.shape}\\n {k_mat}')\n",
    "v_mat =np.random.randn(seq_len,d_dim)\n",
    "print(f'The shape of V matrix is {v_mat.shape}\\n {v_mat}')"
   ]
  },
  {
   "cell_type": "code",
   "execution_count": 4,
   "metadata": {},
   "outputs": [
    {
     "name": "stdout",
     "output_type": "stream",
     "text": [
      "q_kT shape ; (4, 4)\n",
      "[[ 0.77876988 -1.55874695 -1.84176767  2.98692065]\n",
      " [ 2.35681322 -1.02062263 -1.72652934 -1.35869215]\n",
      " [-1.96228646 -1.56692616 -4.44780981  1.59063924]\n",
      " [ 0.05367787  0.16707017  3.70209083  0.9126937 ]]\n"
     ]
    }
   ],
   "source": [
    "# q.kT\n",
    "q_kT = np.matmul(q_mat, k_mat.T)\n",
    "print(f'q_kT shape ; {q_kT.shape}\\n{q_kT}')"
   ]
  },
  {
   "cell_type": "code",
   "execution_count": 5,
   "metadata": {},
   "outputs": [
    {
     "name": "stdout",
     "output_type": "stream",
     "text": [
      "scaled shape : (4, 4)\n",
      "[[ 0.27533673 -0.55110027 -0.6511632   1.05603592]\n",
      " [ 0.8332593  -0.36084459 -0.6104203  -0.48037022]\n",
      " [-0.69377303 -0.55399206 -1.57253824  0.56237589]\n",
      " [ 0.01897799  0.05906822  1.30888676  0.32268595]]\n"
     ]
    }
   ],
   "source": [
    "# scale q_kt/sqrt(d_dim)\n",
    "scaled = q_kT/math.sqrt(d_dim)\n",
    "print(f'scaled shape : {scaled.shape}\\n{scaled}')"
   ]
  },
  {
   "cell_type": "code",
   "execution_count": 6,
   "metadata": {},
   "outputs": [
    {
     "name": "stdout",
     "output_type": "stream",
     "text": [
      "mask shape : (4, 4)\n",
      "[[1. 0. 0. 0.]\n",
      " [1. 1. 0. 0.]\n",
      " [1. 1. 1. 0.]\n",
      " [1. 1. 1. 1.]]\n"
     ]
    }
   ],
   "source": [
    "# mask\n",
    "# the shape of the mask would be same as q_kT, i.e., [seq_len, seq_len]\n",
    "mask = np.tril(np.ones((seq_len,seq_len)))\n",
    "print(f'mask shape : {mask.shape}\\n{mask}')"
   ]
  },
  {
   "cell_type": "code",
   "execution_count": 9,
   "metadata": {},
   "outputs": [
    {
     "name": "stdout",
     "output_type": "stream",
     "text": [
      "mask shape : (4, 4)\n",
      "[[  0. -inf -inf -inf]\n",
      " [  0.   0. -inf -inf]\n",
      " [  0.   0.   0. -inf]\n",
      " [  0.   0.   0.   0.]]\n"
     ]
    }
   ],
   "source": [
    "# for softmax, the zeros in the upper diagonal needs to be set to -infinity\n",
    "# we will set 1 to 0 and 0 to -infity\n",
    "\n",
    "mask[mask==0]= -np.inf\n",
    "mask[mask==1] = 0\n",
    "\n",
    "print(f'mask shape : {mask.shape}\\n{mask}')"
   ]
  },
  {
   "cell_type": "code",
   "execution_count": 10,
   "metadata": {},
   "outputs": [
    {
     "data": {
      "text/plain": [
       "array([[ 0.27533673,        -inf,        -inf,        -inf],\n",
       "       [ 0.8332593 , -0.36084459,        -inf,        -inf],\n",
       "       [-0.69377303, -0.55399206, -1.57253824,        -inf],\n",
       "       [ 0.01897799,  0.05906822,  1.30888676,  0.32268595]])"
      ]
     },
     "execution_count": 10,
     "metadata": {},
     "output_type": "execute_result"
    }
   ],
   "source": [
    "# adding mask to the scaled\n",
    "# scaled + mask\n",
    "# then applying softmax\n",
    "scaled + mask"
   ]
  },
  {
   "cell_type": "code",
   "execution_count": 11,
   "metadata": {},
   "outputs": [],
   "source": [
    "# softmax\n",
    "import numpy as np\n",
    "\n",
    "x = np.array([[1, 2, 3], [1, 2, 3]])\n",
    "#print('main array x shape ; ',x.shape)\n",
    "\n",
    "# Compute the softmax\n",
    "# softmax = (np.exp(x).T / np.sum(np.exp(x), axis=-1)).T\n",
    "def softmax(x):\n",
    "  return (np.exp(x).T / np.sum(np.exp(x), axis=-1)).T\n",
    "\n",
    "attention = softmax(scaled + mask)"
   ]
  },
  {
   "cell_type": "code",
   "execution_count": 12,
   "metadata": {},
   "outputs": [
    {
     "name": "stdout",
     "output_type": "stream",
     "text": [
      "[[ 0.55163977  0.33126945 -0.51472954 -0.20295922  1.21707387  1.03348466\n",
      "   0.14556205  0.14549306]\n",
      " [ 0.52459434  0.26499682 -0.2459435  -0.20360945  0.74367678  0.48018717\n",
      "  -0.14423018 -0.21064683]\n",
      " [ 0.35263425  0.11837709  0.17507933 -0.05020481  0.17125333 -0.25159593\n",
      "  -0.623385   -0.71988646]\n",
      " [ 0.00492915  0.33837452  0.10923947  0.81378563  0.19496172  0.0014559\n",
      "  -0.70012792 -0.75036496]] (4, 8)\n"
     ]
    }
   ],
   "source": [
    "new_v = np.matmul(attention, v_mat)\n",
    "print(new_v, new_v.shape)"
   ]
  },
  {
   "cell_type": "markdown",
   "metadata": {},
   "source": [
    "Positional Embedding"
   ]
  },
  {
   "cell_type": "code",
   "execution_count": 13,
   "metadata": {},
   "outputs": [],
   "source": [
    "# import\n",
    "import torch as t\n",
    "import torch.nn as nn"
   ]
  },
  {
   "cell_type": "code",
   "execution_count": 14,
   "metadata": {},
   "outputs": [],
   "source": [
    "# the sequence of lenght, i.e., the number of words that will be fed at once to the encoder = 10\n",
    "# d_dim = 6\n",
    "seq_len = 10\n",
    "d_dim = 6"
   ]
  },
  {
   "cell_type": "code",
   "execution_count": 15,
   "metadata": {},
   "outputs": [
    {
     "name": "stdout",
     "output_type": "stream",
     "text": [
      "tensor([ 0.,  2.,  4.,  6.,  8., 10.])\n"
     ]
    }
   ],
   "source": [
    "even_i = 2 * t.arange(0,d_dim,1).float()    # 2i\n",
    "print(even_i)"
   ]
  },
  {
   "cell_type": "code",
   "execution_count": 16,
   "metadata": {},
   "outputs": [
    {
     "name": "stdout",
     "output_type": "stream",
     "text": [
      "tensor([1.0000e+00, 1.0000e+01, 1.0000e+02, 1.0000e+03, 1.0000e+04, 1.0000e+05])\n"
     ]
    }
   ],
   "source": [
    "denom = t.pow(1000,(even_i/d_dim))  #10000 ** (2i/d_model)\n",
    "print(denom)"
   ]
  },
  {
   "cell_type": "code",
   "execution_count": 17,
   "metadata": {},
   "outputs": [
    {
     "name": "stdout",
     "output_type": "stream",
     "text": [
      "even positions in the sequence :\n",
      "tensor([0., 2., 4., 6., 8.])\n",
      "even positions in the sequence :\n",
      "tensor([1., 3., 5., 7., 9.])\n"
     ]
    }
   ],
   "source": [
    "# even positions in the sequence\n",
    "even_pos = t.arange(0,seq_len,2).float()    # 2i\n",
    "print(f'even positions in the sequence :\\n{even_pos}')\n",
    "\n",
    "# odd positions in the sequence\n",
    "odd_pos = t.arange(1,seq_len,2).float()   # 2i+1\n",
    "print(f'even positions in the sequence :\\n{odd_pos}')"
   ]
  },
  {
   "cell_type": "code",
   "execution_count": 18,
   "metadata": {},
   "outputs": [
    {
     "name": "stdout",
     "output_type": "stream",
     "text": [
      "torch.Size([5, 1])\n",
      "torch.Size([5, 1])\n"
     ]
    }
   ],
   "source": [
    "# reshaping to (10,1)\n",
    "even_pos = even_pos.reshape(even_pos.shape[0],1)\n",
    "print(even_pos.shape)\n",
    "\n",
    "odd_pos = odd_pos.reshape(odd_pos.shape[0],1)\n",
    "print(odd_pos.shape)"
   ]
  },
  {
   "cell_type": "code",
   "execution_count": 19,
   "metadata": {},
   "outputs": [
    {
     "name": "stdout",
     "output_type": "stream",
     "text": [
      "even position tensor :\n",
      "torch.Size([5, 6])\n",
      "tensor([[ 0.0000e+00,  0.0000e+00,  0.0000e+00,  0.0000e+00,  0.0000e+00,\n",
      "          0.0000e+00],\n",
      "        [ 9.0930e-01,  1.9867e-01,  1.9999e-02,  2.0000e-03,  2.0000e-04,\n",
      "          2.0000e-05],\n",
      "        [-7.5680e-01,  3.8942e-01,  3.9989e-02,  4.0000e-03,  4.0000e-04,\n",
      "          4.0000e-05],\n",
      "        [-2.7942e-01,  5.6464e-01,  5.9964e-02,  6.0000e-03,  6.0000e-04,\n",
      "          6.0000e-05],\n",
      "        [ 9.8936e-01,  7.1736e-01,  7.9915e-02,  7.9999e-03,  8.0000e-04,\n",
      "          8.0000e-05]])\n",
      "odd position tensor :\n",
      "torch.Size([5, 6])\n",
      "tensor([[ 0.5403,  0.9950,  0.9999,  1.0000,  1.0000,  1.0000],\n",
      "        [-0.9900,  0.9553,  0.9996,  1.0000,  1.0000,  1.0000],\n",
      "        [ 0.2837,  0.8776,  0.9988,  1.0000,  1.0000,  1.0000],\n",
      "        [ 0.7539,  0.7648,  0.9976,  1.0000,  1.0000,  1.0000],\n",
      "        [-0.9111,  0.6216,  0.9960,  1.0000,  1.0000,  1.0000]])\n"
     ]
    }
   ],
   "source": [
    "even_pe = t.sin(even_pos/denom) # sin for even positions\n",
    "print(f'even position tensor :\\n{even_pe.shape}\\n{even_pe}')\n",
    "\n",
    "odd_pe = t.cos(odd_pos/denom) # cos for odd positions\n",
    "print(f'odd position tensor :\\n{odd_pe.shape}\\n{odd_pe}')"
   ]
  },
  {
   "cell_type": "code",
   "execution_count": 20,
   "metadata": {},
   "outputs": [
    {
     "name": "stdout",
     "output_type": "stream",
     "text": [
      "pe tensor shape : torch.Size([5, 2, 6])\n",
      "tensor([[[ 0.0000e+00,  0.0000e+00,  0.0000e+00,  0.0000e+00,  0.0000e+00,\n",
      "           0.0000e+00],\n",
      "         [ 5.4030e-01,  9.9500e-01,  9.9995e-01,  1.0000e+00,  1.0000e+00,\n",
      "           1.0000e+00]],\n",
      "\n",
      "        [[ 9.0930e-01,  1.9867e-01,  1.9999e-02,  2.0000e-03,  2.0000e-04,\n",
      "           2.0000e-05],\n",
      "         [-9.8999e-01,  9.5534e-01,  9.9955e-01,  1.0000e+00,  1.0000e+00,\n",
      "           1.0000e+00]],\n",
      "\n",
      "        [[-7.5680e-01,  3.8942e-01,  3.9989e-02,  4.0000e-03,  4.0000e-04,\n",
      "           4.0000e-05],\n",
      "         [ 2.8366e-01,  8.7758e-01,  9.9875e-01,  9.9999e-01,  1.0000e+00,\n",
      "           1.0000e+00]],\n",
      "\n",
      "        [[-2.7942e-01,  5.6464e-01,  5.9964e-02,  6.0000e-03,  6.0000e-04,\n",
      "           6.0000e-05],\n",
      "         [ 7.5390e-01,  7.6484e-01,  9.9755e-01,  9.9998e-01,  1.0000e+00,\n",
      "           1.0000e+00]],\n",
      "\n",
      "        [[ 9.8936e-01,  7.1736e-01,  7.9915e-02,  7.9999e-03,  8.0000e-04,\n",
      "           8.0000e-05],\n",
      "         [-9.1113e-01,  6.2161e-01,  9.9595e-01,  9.9996e-01,  1.0000e+00,\n",
      "           1.0000e+00]]])\n"
     ]
    }
   ],
   "source": [
    "# stacking even_pos tensor and odd_pos tensor along column\n",
    "pe = t.stack([even_pe,odd_pe], dim = 1)\n",
    "print(f'pe tensor shape : {pe.shape}\\n{pe}')"
   ]
  },
  {
   "cell_type": "code",
   "execution_count": 21,
   "metadata": {},
   "outputs": [
    {
     "name": "stdout",
     "output_type": "stream",
     "text": [
      "torch.Size([10, 6])\n",
      "tensor([[ 0.0000e+00,  0.0000e+00,  0.0000e+00,  0.0000e+00,  0.0000e+00,\n",
      "          0.0000e+00],\n",
      "        [ 5.4030e-01,  9.9500e-01,  9.9995e-01,  1.0000e+00,  1.0000e+00,\n",
      "          1.0000e+00],\n",
      "        [ 9.0930e-01,  1.9867e-01,  1.9999e-02,  2.0000e-03,  2.0000e-04,\n",
      "          2.0000e-05],\n",
      "        [-9.8999e-01,  9.5534e-01,  9.9955e-01,  1.0000e+00,  1.0000e+00,\n",
      "          1.0000e+00],\n",
      "        [-7.5680e-01,  3.8942e-01,  3.9989e-02,  4.0000e-03,  4.0000e-04,\n",
      "          4.0000e-05],\n",
      "        [ 2.8366e-01,  8.7758e-01,  9.9875e-01,  9.9999e-01,  1.0000e+00,\n",
      "          1.0000e+00],\n",
      "        [-2.7942e-01,  5.6464e-01,  5.9964e-02,  6.0000e-03,  6.0000e-04,\n",
      "          6.0000e-05],\n",
      "        [ 7.5390e-01,  7.6484e-01,  9.9755e-01,  9.9998e-01,  1.0000e+00,\n",
      "          1.0000e+00],\n",
      "        [ 9.8936e-01,  7.1736e-01,  7.9915e-02,  7.9999e-03,  8.0000e-04,\n",
      "          8.0000e-05],\n",
      "        [-9.1113e-01,  6.2161e-01,  9.9595e-01,  9.9996e-01,  1.0000e+00,\n",
      "          1.0000e+00]])\n"
     ]
    }
   ],
   "source": [
    "# Reshape the stacked tensor to interleave the rows\n",
    "pe = pe.view(-1, 6)\n",
    "print(pe.shape)  # Output: torch.Size([10, 6])\n",
    "print(pe)"
   ]
  }
 ],
 "metadata": {
  "kernelspec": {
   "display_name": "myenv",
   "language": "python",
   "name": "python3"
  },
  "language_info": {
   "codemirror_mode": {
    "name": "ipython",
    "version": 3
   },
   "file_extension": ".py",
   "mimetype": "text/x-python",
   "name": "python",
   "nbconvert_exporter": "python",
   "pygments_lexer": "ipython3",
   "version": "3.12.3"
  }
 },
 "nbformat": 4,
 "nbformat_minor": 2
}
